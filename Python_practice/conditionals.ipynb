{
 "cells": [
  {
   "cell_type": "markdown",
   "metadata": {},
   "source": [
    "# Homework"
   ]
  },
  {
   "cell_type": "markdown",
   "metadata": {},
   "source": [
    "### Problem 1\n",
    "Given an int count of a number of donuts, return a string of the form 'Number of donuts: **count**', where **count** is the number passed in. However, if the count is 10 or more, then use the word 'many' instead of the actual count. \n",
    "\n",
    "So **ex_1(5)** returns 'Number of donuts: 5' and **ex_1(23)** returns 'Number of donuts: many'"
   ]
  },
  {
   "cell_type": "code",
   "execution_count": 2,
   "metadata": {
    "collapsed": false
   },
   "outputs": [
    {
     "name": "stdout",
     "output_type": "stream",
     "text": [
      "Number of donuts: 5\n",
      "Number of donuts: many\n"
     ]
    }
   ],
   "source": [
    "#### Your code here\n",
    "def ex_1(n):\n",
    "    if n >= 10:\n",
    "        print 'Number of donuts: many'\n",
    "    else:\n",
    "        print 'Number of donuts: ' + str(n)\n",
    "\n",
    "        \n",
    "ex_1(5)\n",
    "ex_1(23) "
   ]
  },
  {
   "cell_type": "markdown",
   "metadata": {},
   "source": [
    "### Problem 2\n",
    "- Revisit your application problem. Use the list comprehension this time:\n",
    "*Sum up the numbers divided by 3 or 5 from 1 to 999.*"
   ]
  },
  {
   "cell_type": "code",
   "execution_count": 3,
   "metadata": {
    "collapsed": false
   },
   "outputs": [
    {
     "data": {
      "text/plain": [
       "233168"
      ]
     },
     "execution_count": 3,
     "metadata": {},
     "output_type": "execute_result"
    }
   ],
   "source": [
    "#### Your code here\n",
    "x = range(1, 1000)\n",
    "sum([i for i in x if i % 5 == 0 or i % 3 == 0])"
   ]
  },
  {
   "cell_type": "markdown",
   "metadata": {},
   "source": [
    "- List comprehension with more complicated condition. Consider the list below, use list comprehension to assign 'a' to the numbers greater than 8; 'b' to the numbers less or equal to 8."
   ]
  },
  {
   "cell_type": "code",
   "execution_count": 4,
   "metadata": {
    "collapsed": false
   },
   "outputs": [
    {
     "data": {
      "text/plain": [
       "['b', 'b', 'b', 'b', 'b', 'b', 'b', 'b', 'a', 'a']"
      ]
     },
     "execution_count": 4,
     "metadata": {},
     "output_type": "execute_result"
    }
   ],
   "source": [
    "Lst=range(1, 11)\n",
    "\n",
    "#### Your code here\n",
    "['a' if x > 8 else 'b' for x in Lst]"
   ]
  },
  {
   "cell_type": "markdown",
   "metadata": {},
   "source": [
    "- Again use list comprehension to assign 'a' to the numbers greater than 8; 'b' to the numbers less or equal to 8 and greater than 5; 'c' to everything else."
   ]
  },
  {
   "cell_type": "code",
   "execution_count": 5,
   "metadata": {
    "collapsed": false
   },
   "outputs": [
    {
     "data": {
      "text/plain": [
       "['c', 'c', 'c', 'c', 'c', 'b', 'b', 'b', 'a', 'a']"
      ]
     },
     "execution_count": 5,
     "metadata": {},
     "output_type": "execute_result"
    }
   ],
   "source": [
    "#### Your code here\n",
    "['a' if x > 8 else 'b' if x > 5 and x <= 8 else 'c' for x in Lst]"
   ]
  },
  {
   "cell_type": "markdown",
   "metadata": {
    "internals": {
     "slide_type": "subslide"
    },
    "slideshow": {
     "slide_type": "slide"
    }
   },
   "source": [
    "### Problem 3\n",
    "\n",
    "Recall problem 2 from yesterday's homework, *count_string('welcome to nyc(NYC) data science academy!', '')* returns 42, which is the length of the first argument. It is because we assign nothing to the second argument, so any character was counted. This time you need to rewrite the function **countString**, if the second argument is still nothing, the function should raise an **ValueError** with message: <p style=\"color: red\">The length of string_to_count should not be 0!</p>\n"
   ]
  },
  {
   "cell_type": "code",
   "execution_count": 6,
   "metadata": {
    "collapsed": true
   },
   "outputs": [],
   "source": [
    "#### Your code here\n",
    "def countString(raw_string, string_to_count):\n",
    "    '''\n",
    "    raw_string: a string\n",
    "    string_to_count: a string to be counted\n",
    "    \n",
    "    returns: a positive number which is number of times that string_to_count occurs in raw_string.\n",
    "    '''\n",
    "    if len(string_to_count)==0:\n",
    "        raise ValueError('The length of string_to_count should not be 0!')\n",
    "    else:\n",
    "        raw_string = raw_string.lower()\n",
    "        string_to_count = string_to_count.lower()\n",
    "        return raw_string.count(string_to_count)\n",
    "        \n"
   ]
  },
  {
   "cell_type": "markdown",
   "metadata": {},
   "source": [
    "Here are some examples. Your function should return almost the same result."
   ]
  },
  {
   "cell_type": "code",
   "execution_count": 7,
   "metadata": {
    "collapsed": false,
    "internals": {},
    "slideshow": {
     "slide_type": "-"
    }
   },
   "outputs": [
    {
     "ename": "ValueError",
     "evalue": "The length of string_to_count should not be 0!",
     "output_type": "error",
     "traceback": [
      "\u001b[0;31m---------------------------------------------------------------------------\u001b[0m",
      "\u001b[0;31mValueError\u001b[0m                                Traceback (most recent call last)",
      "\u001b[0;32m<ipython-input-7-e735653534b7>\u001b[0m in \u001b[0;36m<module>\u001b[0;34m()\u001b[0m\n\u001b[0;32m----> 1\u001b[0;31m \u001b[0mcountString\u001b[0m\u001b[1;33m(\u001b[0m\u001b[1;34m'hello, world!'\u001b[0m\u001b[1;33m,\u001b[0m \u001b[1;34m''\u001b[0m\u001b[1;33m)\u001b[0m\u001b[1;33m\u001b[0m\u001b[0m\n\u001b[0m\u001b[1;32m      2\u001b[0m \u001b[1;31m# ValueError: The length should not be 0!\u001b[0m\u001b[1;33m\u001b[0m\u001b[1;33m\u001b[0m\u001b[0m\n",
      "\u001b[0;32m<ipython-input-6-e316ddf1ce85>\u001b[0m in \u001b[0;36mcountString\u001b[0;34m(raw_string, string_to_count)\u001b[0m\n\u001b[1;32m      8\u001b[0m     '''\n\u001b[1;32m      9\u001b[0m     \u001b[1;32mif\u001b[0m \u001b[0mlen\u001b[0m\u001b[1;33m(\u001b[0m\u001b[0mstring_to_count\u001b[0m\u001b[1;33m)\u001b[0m\u001b[1;33m==\u001b[0m\u001b[1;36m0\u001b[0m\u001b[1;33m:\u001b[0m\u001b[1;33m\u001b[0m\u001b[0m\n\u001b[0;32m---> 10\u001b[0;31m         \u001b[1;32mraise\u001b[0m \u001b[0mValueError\u001b[0m\u001b[1;33m(\u001b[0m\u001b[1;34m'The length of string_to_count should not be 0!'\u001b[0m\u001b[1;33m)\u001b[0m\u001b[1;33m\u001b[0m\u001b[0m\n\u001b[0m\u001b[1;32m     11\u001b[0m     \u001b[1;32melse\u001b[0m\u001b[1;33m:\u001b[0m\u001b[1;33m\u001b[0m\u001b[0m\n\u001b[1;32m     12\u001b[0m         \u001b[0mraw_string\u001b[0m \u001b[1;33m=\u001b[0m \u001b[0mraw_string\u001b[0m\u001b[1;33m.\u001b[0m\u001b[0mlower\u001b[0m\u001b[1;33m(\u001b[0m\u001b[1;33m)\u001b[0m\u001b[1;33m\u001b[0m\u001b[0m\n",
      "\u001b[0;31mValueError\u001b[0m: The length of string_to_count should not be 0!"
     ]
    }
   ],
   "source": [
    "countString('hello, world!', '') \n",
    "# ValueError: The length should not be 0!"
   ]
  },
  {
   "cell_type": "code",
   "execution_count": 8,
   "metadata": {
    "collapsed": false,
    "internals": {},
    "slideshow": {
     "slide_type": "-"
    }
   },
   "outputs": [
    {
     "data": {
      "text/plain": [
       "2"
      ]
     },
     "execution_count": 8,
     "metadata": {},
     "output_type": "execute_result"
    }
   ],
   "source": [
    "countString('hello, world!', 'o') # 2"
   ]
  },
  {
   "cell_type": "code",
   "execution_count": 9,
   "metadata": {
    "collapsed": false,
    "internals": {
     "slide_helper": "subslide_end"
    },
    "slide_helper": "subslide_end",
    "slideshow": {
     "slide_type": "-"
    }
   },
   "outputs": [
    {
     "data": {
      "text/plain": [
       "3"
      ]
     },
     "execution_count": 9,
     "metadata": {},
     "output_type": "execute_result"
    }
   ],
   "source": [
    "countString('hello, world!', 'l') # 3"
   ]
  },
  {
   "cell_type": "markdown",
   "metadata": {
    "internals": {
     "slide_type": "subslide"
    },
    "slideshow": {
     "slide_type": "slide"
    }
   },
   "source": [
    "### Problem 4\n",
    "Write a function **countLetter** to count the number of frequencies of each letter occurs. In this case your function should only return the frequencies of letters that really occurs. Again, your function should be case **insensitive**.\n",
    "\n",
    "Hint: [chr(i) for i in range(97, 123)] is faster way to get the alphabet."
   ]
  },
  {
   "cell_type": "code",
   "execution_count": 11,
   "metadata": {
    "collapsed": false,
    "internals": {},
    "slideshow": {
     "slide_type": "-"
    }
   },
   "outputs": [],
   "source": [
    "#### Your code here\n",
    "def countLetter(raw_string):\n",
    "    '''\n",
    "    raw_string: a string\n",
    "    \n",
    "    returns: a dict contains each letter and it's corresponding frequency\n",
    "    '''\n",
    "    raw_string = raw_string.lower()     # lowercase to make it insensitive\n",
    "    d = {}       # blank dict\n",
    "    for i in [chr(i) for i in range(97, 123)]:   # go through each letter\n",
    "        if i in raw_string:    # check if letter is in string\n",
    "            count = raw_string.count(i)   # grab the count\n",
    "            d[i] = count      # add the new dictionary k-v pair\n",
    "    return d   # return the dict\n",
    "        \n"
   ]
  },
  {
   "cell_type": "code",
   "execution_count": 10,
   "metadata": {
    "collapsed": false
   },
   "outputs": [
    {
     "name": "stdout",
     "output_type": "stream",
     "text": [
      "a b c d e f g h i j k l m n o p q r s t u v w x y z\n"
     ]
    }
   ],
   "source": [
    "for i in  [chr(i) for i in range(97, 123)]:\n",
    "    print i,\n",
    "    "
   ]
  },
  {
   "cell_type": "markdown",
   "metadata": {
    "internals": {},
    "slideshow": {
     "slide_type": "-"
    }
   },
   "source": [
    "Here are some examples. Your function should return exactly the same result."
   ]
  },
  {
   "cell_type": "code",
   "execution_count": 12,
   "metadata": {
    "collapsed": false,
    "internals": {},
    "slideshow": {
     "slide_type": "-"
    }
   },
   "outputs": [
    {
     "data": {
      "text/plain": [
       "{}"
      ]
     },
     "execution_count": 12,
     "metadata": {},
     "output_type": "execute_result"
    }
   ],
   "source": [
    "countLetter('') # {}"
   ]
  },
  {
   "cell_type": "code",
   "execution_count": 13,
   "metadata": {
    "collapsed": false,
    "internals": {},
    "slideshow": {
     "slide_type": "-"
    }
   },
   "outputs": [
    {
     "data": {
      "text/plain": [
       "{'a': 2, 'b': 2, 'c': 2}"
      ]
     },
     "execution_count": 13,
     "metadata": {},
     "output_type": "execute_result"
    }
   ],
   "source": [
    "countLetter('ABCabc') # {'a': 2, 'b': 2, 'c': 2}"
   ]
  },
  {
   "cell_type": "code",
   "execution_count": 15,
   "metadata": {
    "collapsed": false,
    "internals": {
     "slide_helper": "subslide_end"
    },
    "scrolled": true,
    "slide_helper": "subslide_end",
    "slideshow": {
     "slide_type": "-"
    }
   },
   "outputs": [
    {
     "data": {
      "text/plain": [
       "{'a': 7,\n",
       " 'c': 5,\n",
       " 'd': 2,\n",
       " 'e': 5,\n",
       " 'i': 1,\n",
       " 'l': 1,\n",
       " 'm': 2,\n",
       " 'n': 2,\n",
       " 'o': 2,\n",
       " 's': 1,\n",
       " 't': 2,\n",
       " 'w': 1,\n",
       " 'y': 2}"
      ]
     },
     "execution_count": 15,
     "metadata": {},
     "output_type": "execute_result"
    }
   ],
   "source": [
    "countLetter('welcome to NYC data science academy')\n",
    "# {'a': 4, 'c': 5, 'e': 5, 'd': 2, 'i': 1, 'm': 2, \\\n",
    "# 'l': 1, 'o': 2, 'n': 2, 's': 1, 't': 2, 'w': 1, 'y': 2}"
   ]
  },
  {
   "cell_type": "markdown",
   "metadata": {
    "internals": {
     "slide_type": "subslide"
    },
    "slideshow": {
     "slide_type": "slide"
    }
   },
   "source": [
    "### Problem 5 (Optional)\n",
    "The **bisection method** in mathematics is a root-finding method that repeatedly bisects an interval and then selects a subinterval in which a root must lie for further processing.\n",
    "\n",
    "Given a continuous function *f* and an interval $[a, b]$, which satisfies that the values of $f(a)$ and $f(b)$ are opposite, say $f(a)*f(b) < 0$(there is at least one zero crossing within the interval).\n",
    "\n",
    "- Calculate $c$, the midpoint of the interval, $c = 0.5 * (a + b)$.\n",
    "- Calculate the function value at the midpoint, $f(c)$.\n",
    "- If convergence is satisfactory (that is, $f(c)$ is sufficiently small), return $c$ and stop iterating."
   ]
  },
  {
   "cell_type": "code",
   "execution_count": 53,
   "metadata": {
    "collapsed": false,
    "internals": {},
    "slideshow": {
     "slide_type": "-"
    }
   },
   "outputs": [
    {
     "data": {
      "text/html": [
       "<img src=\"http://upload.wikimedia.org/wikipedia/commons/thumb/8/8c/Bisection_method.svg/640px-Bisection_method.svg.png\"/>"
      ],
      "text/plain": [
       "<IPython.core.display.Image object>"
      ]
     },
     "execution_count": 53,
     "metadata": {},
     "output_type": "execute_result"
    }
   ],
   "source": [
    "from IPython.display import Image\n",
    "Image(url='http://upload.wikimedia.org/wikipedia/commons/thumb/8/8c/Bisection_method.svg/640px-Bisection_method.svg.png')"
   ]
  },
  {
   "cell_type": "markdown",
   "metadata": {
    "internals": {},
    "slideshow": {
     "slide_type": "-"
    }
   },
   "source": [
    "Write a function **binarySearchIter(fun, start, end,  eps)** to implement this idea, find the root of function *fun* in the interval $[start, end]$. Repeat the iteration until the absolute value of *fun(c)* is smaller than *eps*, and *eps* is a very small number, $10^{-10}$ for example. If $fun(start)*fun(end) \\ge 0$, raise an error with message <p style=\"color: red\">The sign of fun(start) and fun(end) should be opposite!</p>"
   ]
  },
  {
   "cell_type": "code",
   "execution_count": 50,
   "metadata": {
    "collapsed": false,
    "internals": {},
    "slideshow": {
     "slide_type": "-"
    }
   },
   "outputs": [],
   "source": [
    "#### Your code here\n",
    "def binarySearchIter(fun, start, end,  eps=1e-10):\n",
    "    '''\n",
    "    fun: funtion to find the root\n",
    "    start, end: the starting and ending of the interval\n",
    "    eps: the machine-precision, should be a very small number like 1e-10\n",
    "    \n",
    "    return the root of fun between the interval [start, end]\n",
    "    '''\n",
    "    if fun(start) * fun(end) >= 0:\n",
    "        raise ValueError('The sign of fun(start) and fun(end) should be opposite!')\n",
    "    else:\n",
    "        c = (start + end) * 0.5\n",
    "        #print c                 #debugging to see what went wrong (abs val of fun(c))\n",
    "        while abs(fun(c)) > abs(eps):                #forgot this absolute value and it wrecked everything\n",
    "            if fun(c)*fun(start) <= 0:\n",
    "                return binarySearchIter(fun, start, c, eps)\n",
    "            else:\n",
    "                return binarySearchIter(fun, c, end, eps)\n",
    "        return c\n",
    "    \n",
    "    \n",
    "    \n",
    "#         if fun(c) < abs(eps):\n",
    "#             return c\n",
    "#         else:\n",
    "            \n",
    "        \n"
   ]
  },
  {
   "cell_type": "markdown",
   "metadata": {
    "internals": {},
    "slideshow": {
     "slide_type": "-"
    }
   },
   "source": [
    "Here are three examples. Your function should return almost the same result."
   ]
  },
  {
   "cell_type": "code",
   "execution_count": 52,
   "metadata": {
    "collapsed": false,
    "internals": {},
    "slideshow": {
     "slide_type": "-"
    }
   },
   "outputs": [
    {
     "name": "stdout",
     "output_type": "stream",
     "text": [
      "-1.41421356238\n"
     ]
    }
   ],
   "source": [
    "def f(x):\n",
    "    return x ** 2 - 2\n",
    "print binarySearchIter(f, -60, 0, eps = 1e-10) # -1.4142135623842478\n"
   ]
  },
  {
   "cell_type": "code",
   "execution_count": 53,
   "metadata": {
    "collapsed": false,
    "internals": {},
    "slideshow": {
     "slide_type": "-"
    }
   },
   "outputs": [
    {
     "data": {
      "text/plain": [
       "1.4142135623842478"
      ]
     },
     "execution_count": 53,
     "metadata": {},
     "output_type": "execute_result"
    }
   ],
   "source": [
    "binarySearchIter(f, 0, 3, eps = 1e-10) # 1.4142135623842478"
   ]
  },
  {
   "cell_type": "code",
   "execution_count": 54,
   "metadata": {
    "collapsed": false,
    "internals": {},
    "slideshow": {
     "slide_type": "-"
    }
   },
   "outputs": [
    {
     "data": {
      "text/plain": [
       "3.000000000001819"
      ]
     },
     "execution_count": 54,
     "metadata": {},
     "output_type": "execute_result"
    }
   ],
   "source": [
    "binarySearchIter(lambda x: x ** 3 - 27, 0, 5, eps = 1e-10) # 3.000000000001819"
   ]
  },
  {
   "cell_type": "code",
   "execution_count": 55,
   "metadata": {
    "collapsed": false,
    "internals": {},
    "slideshow": {
     "slide_type": "-"
    }
   },
   "outputs": [
    {
     "data": {
      "text/plain": [
       "-3.000000000001819"
      ]
     },
     "execution_count": 55,
     "metadata": {},
     "output_type": "execute_result"
    }
   ],
   "source": [
    "binarySearchIter(lambda x: x ** 3 + 27, -5, 0, eps = 1e-10) # -3.000000000001819"
   ]
  },
  {
   "cell_type": "code",
   "execution_count": 56,
   "metadata": {
    "collapsed": false,
    "internals": {
     "slide_helper": "subslide_end"
    },
    "slide_helper": "subslide_end",
    "slideshow": {
     "slide_type": "-"
    }
   },
   "outputs": [
    {
     "ename": "ValueError",
     "evalue": "The sign of fun(start) and fun(end) should be opposite!",
     "output_type": "error",
     "traceback": [
      "\u001b[0;31m---------------------------------------------------------------------------\u001b[0m",
      "\u001b[0;31mValueError\u001b[0m                                Traceback (most recent call last)",
      "\u001b[0;32m<ipython-input-56-51c2127b1e86>\u001b[0m in \u001b[0;36m<module>\u001b[0;34m()\u001b[0m\n\u001b[0;32m----> 1\u001b[0;31m \u001b[0mbinarySearchIter\u001b[0m\u001b[1;33m(\u001b[0m\u001b[1;32mlambda\u001b[0m \u001b[0mx\u001b[0m\u001b[1;33m:\u001b[0m \u001b[0mx\u001b[0m \u001b[1;33m**\u001b[0m \u001b[1;36m3\u001b[0m \u001b[1;33m+\u001b[0m \u001b[1;36m27\u001b[0m\u001b[1;33m,\u001b[0m \u001b[1;36m0\u001b[0m\u001b[1;33m,\u001b[0m \u001b[1;36m5\u001b[0m\u001b[1;33m,\u001b[0m \u001b[0meps\u001b[0m \u001b[1;33m=\u001b[0m \u001b[1;36m1e-10\u001b[0m\u001b[1;33m)\u001b[0m\u001b[1;33m\u001b[0m\u001b[0m\n\u001b[0m\u001b[1;32m      2\u001b[0m \u001b[1;31m# ValueError: The sign of fun(start) and fun(end) should be opposite!\u001b[0m\u001b[1;33m\u001b[0m\u001b[1;33m\u001b[0m\u001b[0m\n",
      "\u001b[0;32m<ipython-input-50-d13348dde074>\u001b[0m in \u001b[0;36mbinarySearchIter\u001b[0;34m(fun, start, end, eps)\u001b[0m\n\u001b[1;32m      9\u001b[0m     '''\n\u001b[1;32m     10\u001b[0m     \u001b[1;32mif\u001b[0m \u001b[0mfun\u001b[0m\u001b[1;33m(\u001b[0m\u001b[0mstart\u001b[0m\u001b[1;33m)\u001b[0m \u001b[1;33m*\u001b[0m \u001b[0mfun\u001b[0m\u001b[1;33m(\u001b[0m\u001b[0mend\u001b[0m\u001b[1;33m)\u001b[0m \u001b[1;33m>=\u001b[0m \u001b[1;36m0\u001b[0m\u001b[1;33m:\u001b[0m\u001b[1;33m\u001b[0m\u001b[0m\n\u001b[0;32m---> 11\u001b[0;31m         \u001b[1;32mraise\u001b[0m \u001b[0mValueError\u001b[0m\u001b[1;33m(\u001b[0m\u001b[1;34m'The sign of fun(start) and fun(end) should be opposite!'\u001b[0m\u001b[1;33m)\u001b[0m\u001b[1;33m\u001b[0m\u001b[0m\n\u001b[0m\u001b[1;32m     12\u001b[0m     \u001b[1;32melse\u001b[0m\u001b[1;33m:\u001b[0m\u001b[1;33m\u001b[0m\u001b[0m\n\u001b[1;32m     13\u001b[0m         \u001b[0mc\u001b[0m \u001b[1;33m=\u001b[0m \u001b[1;33m(\u001b[0m\u001b[0mstart\u001b[0m \u001b[1;33m+\u001b[0m \u001b[0mend\u001b[0m\u001b[1;33m)\u001b[0m \u001b[1;33m*\u001b[0m \u001b[1;36m0.5\u001b[0m\u001b[1;33m\u001b[0m\u001b[0m\n",
      "\u001b[0;31mValueError\u001b[0m: The sign of fun(start) and fun(end) should be opposite!"
     ]
    }
   ],
   "source": [
    "binarySearchIter(lambda x: x ** 3 + 27, 0, 5, eps = 1e-10) \n",
    "# ValueError: The sign of fun(start) and fun(end) should be opposite!"
   ]
  },
  {
   "cell_type": "code",
   "execution_count": null,
   "metadata": {
    "collapsed": true
   },
   "outputs": [],
   "source": []
  }
 ],
 "metadata": {
  "kernelspec": {
   "display_name": "Python 2",
   "language": "python",
   "name": "python2"
  },
  "language_info": {
   "codemirror_mode": {
    "name": "ipython",
    "version": 2
   },
   "file_extension": ".py",
   "mimetype": "text/x-python",
   "name": "python",
   "nbconvert_exporter": "python",
   "pygments_lexer": "ipython2",
   "version": "2.7.13"
  }
 },
 "nbformat": 4,
 "nbformat_minor": 0
}
