{
 "cells": [
  {
   "cell_type": "markdown",
   "metadata": {},
   "source": [
    "<p><a name=\"home\"></a></p>\n",
    "# Homework"
   ]
  },
  {
   "cell_type": "markdown",
   "metadata": {},
   "source": [
    "### Problem 1\n",
    "\n",
    "- Define a function called `search` that takes a keyword and the name of a file as input. \n",
    "- Open the file and iterate through the file object line by line. If you find the keyword in the line, yield it.\n",
    "- Also show how would you call the function and iterate through the generator."
   ]
  },
  {
   "cell_type": "code",
   "execution_count": 5,
   "metadata": {
    "collapsed": false
   },
   "outputs": [
    {
     "name": "stdout",
     "output_type": "stream",
     "text": [
      "in efuhwefn qlkhdq\n",
      "\n"
     ]
    },
    {
     "ename": "StopIteration",
     "evalue": "",
     "output_type": "error",
     "traceback": [
      "\u001b[0;31m---------------------------------------------------------------------------\u001b[0m",
      "\u001b[0;31mStopIteration\u001b[0m                             Traceback (most recent call last)",
      "\u001b[0;32m<ipython-input-5-4d482404e679>\u001b[0m in \u001b[0;36m<module>\u001b[0;34m()\u001b[0m\n\u001b[1;32m     12\u001b[0m \u001b[0mb\u001b[0m \u001b[1;33m=\u001b[0m \u001b[0msearch\u001b[0m\u001b[1;33m(\u001b[0m\u001b[1;34m'ql'\u001b[0m\u001b[1;33m,\u001b[0m \u001b[1;34m'untitled.txt'\u001b[0m\u001b[1;33m)\u001b[0m\u001b[1;33m\u001b[0m\u001b[0m\n\u001b[1;32m     13\u001b[0m \u001b[1;32mprint\u001b[0m \u001b[0mnext\u001b[0m\u001b[1;33m(\u001b[0m\u001b[0mb\u001b[0m\u001b[1;33m)\u001b[0m\u001b[1;33m\u001b[0m\u001b[0m\n\u001b[0;32m---> 14\u001b[0;31m \u001b[1;32mprint\u001b[0m \u001b[0mnext\u001b[0m\u001b[1;33m(\u001b[0m\u001b[0mb\u001b[0m\u001b[1;33m)\u001b[0m\u001b[1;33m\u001b[0m\u001b[0m\n\u001b[0m\u001b[1;32m     15\u001b[0m \u001b[1;33m\u001b[0m\u001b[0m\n\u001b[1;32m     16\u001b[0m \u001b[1;33m\u001b[0m\u001b[0m\n",
      "\u001b[0;31mStopIteration\u001b[0m: "
     ]
    }
   ],
   "source": [
    "def search(keyword, filename):\n",
    "    f = open(filename, 'r')\n",
    "    lines = f.readlines()\n",
    "    f.close()\n",
    "    for i in lines:\n",
    "        if keyword in i:\n",
    "            yield i\n",
    "\n",
    "a = search('in', 'untitled.txt')\n",
    "list(a)\n",
    "\n",
    "b = search('ql', 'untitled.txt')\n",
    "print next(b)\n",
    "print next(b)\n",
    "            \n",
    "    "
   ]
  },
  {
   "cell_type": "markdown",
   "metadata": {},
   "source": [
    "### Problem 2\n",
    "- Given a list of the functions `math.sin`, `math.cos` and `math.exp`.\n",
    "```\n",
    "import math\n",
    "func_lst = [math.sin, math.cos, math.exp]\n",
    "```\n",
    "Compute $\\exp((\\cos(\\sin(0))))$ with `reduce` and `func_lst`."
   ]
  },
  {
   "cell_type": "code",
   "execution_count": 8,
   "metadata": {
    "collapsed": false
   },
   "outputs": [
    {
     "data": {
      "text/plain": [
       "2.718281828459045"
      ]
     },
     "execution_count": 8,
     "metadata": {},
     "output_type": "execute_result"
    }
   ],
   "source": [
    "import math\n",
    "func_lst = [math.sin, math.cos, math.exp]\n",
    "\n",
    "#### Your code here\n",
    "reduce(lambda x, y: y(x),func_lst, 0)"
   ]
  },
  {
   "cell_type": "markdown",
   "metadata": {},
   "source": [
    "### Problem 3\n",
    "\n",
    "Flatten a list:\n",
    "\n",
    "- Use reduce to turn [[1, 2, 3], [4, 5], [6, 7, 8]] into [1, 2, 3, 4, 5, 6, 7, 8].\n",
    "- Check the [itertools](https://docs.python.org/2/library/itertools.html) packages and see if you can find a function that does the same thing.\n",
    "- **Note**: it returns a generator instead of a list."
   ]
  },
  {
   "cell_type": "code",
   "execution_count": 24,
   "metadata": {
    "collapsed": false
   },
   "outputs": [
    {
     "data": {
      "text/plain": [
       "[[1, 2, 3], [4, 5], [6, 7, 8]]"
      ]
     },
     "execution_count": 24,
     "metadata": {},
     "output_type": "execute_result"
    }
   ],
   "source": [
    "#### Your code here\n",
    "import itertools\n",
    "L = [[1, 2, 3], [4, 5], [6, 7, 8]]\n",
    "reduce(lambda x,y: x + y, L)\n",
    "\n",
    "g = itertools.chain(L)\n",
    "list(g)"
   ]
  },
  {
   "cell_type": "markdown",
   "metadata": {},
   "source": [
    "### Problem 4\n",
    "\n",
    "\n",
    "- Create a class BankAccount with the following attributes and methods:\n",
    " - Attributes: \n",
    "   - name(string): instance variable;\n",
    "   - balance(number): instance variable;\n",
    " - Methods: \n",
    "   - `__init__(self, name, balance)`: initialize a BankAccount object with a string and a number.\n",
    "   - `__str__(self)`: use the format\n",
    "```  \n",
    "'Name: %s\\nBalance: $%f' %(self.name, self.balance)\n",
    "```\n",
    "   - `deposit(self, n)`: add n to the balance\n",
    "   - `withdraw(self, n)`: subtract n from the balance"
   ]
  },
  {
   "cell_type": "code",
   "execution_count": 38,
   "metadata": {
    "collapsed": true
   },
   "outputs": [],
   "source": [
    "#### Your code here\n",
    "class BankAccount(object):\n",
    "    def __init__(self, name, balance):\n",
    "        self.__name = name\n",
    "        self.__balance = round(balance, 2)\n",
    "    \n",
    "    \n",
    "    def __str__(self):\n",
    "        return 'Name: %s\\nBalance: $%f' %(self.__name, round(self.__balance,2))\n",
    "    \n",
    "    \n",
    "    def deposit(self, n):\n",
    "        self.__balance += n\n",
    "        self.__balance = round(self.__balance, 2)\n",
    "    \n",
    "    \n",
    "    def withdraw(self, n):\n",
    "        self.__balance -= n\n",
    "        self.__balance = round(self.__balance, 2)\n",
    "        "
   ]
  },
  {
   "cell_type": "code",
   "execution_count": 39,
   "metadata": {
    "collapsed": false
   },
   "outputs": [
    {
     "name": "stdout",
     "output_type": "stream",
     "text": [
      "Name: Sean Kickham\n",
      "Balance: $1234.560000\n",
      "Name: Sean Kickham\n",
      "Balance: $1268.710000\n",
      "Name: Sean Kickham\n",
      "Balance: $811.720000\n"
     ]
    }
   ],
   "source": [
    "A1 = BankAccount('Sean Kickham', 1234.56)\n",
    "\n",
    "print A1\n",
    "\n",
    "A1.deposit(34.15)\n",
    "\n",
    "print A1\n",
    "\n",
    "A1.withdraw(456.99)\n",
    "\n",
    "print A1\n"
   ]
  }
 ],
 "metadata": {
  "kernelspec": {
   "display_name": "Python 2",
   "language": "python",
   "name": "python2"
  },
  "language_info": {
   "codemirror_mode": {
    "name": "ipython",
    "version": 2
   },
   "file_extension": ".py",
   "mimetype": "text/x-python",
   "name": "python",
   "nbconvert_exporter": "python",
   "pygments_lexer": "ipython2",
   "version": "2.7.13"
  }
 },
 "nbformat": 4,
 "nbformat_minor": 1
}
