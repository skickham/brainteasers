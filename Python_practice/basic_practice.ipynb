{
 "cells": [
  {
   "cell_type": "markdown",
   "metadata": {},
   "source": [
    "<p><a name=\"simple\"></a></p>\n",
    "# Homework"
   ]
  },
  {
   "cell_type": "markdown",
   "metadata": {},
   "source": [
    "### Problem 1\n",
    "\n",
    "Import the math module and define a function that takes a number x and returns $\\frac{x^{2} + x^{3}}{\\sqrt{x}}$."
   ]
  },
  {
   "cell_type": "code",
   "execution_count": 11,
   "metadata": {
    "collapsed": false
   },
   "outputs": [
    {
     "name": "stdout",
     "output_type": "stream",
     "text": [
      "270.0\n",
      "270.0\n"
     ]
    }
   ],
   "source": [
    "#### Your code here\n",
    "from math import *\n",
    "\n",
    "def my_fun(x):\n",
    "    return (x**2 + x**3)/(x**0.5)\n",
    "\n",
    "My_fun = lambda x: (x**2 + x**3)/(x**0.5)\n",
    "\n",
    "\n",
    "print My_fun(9)\n",
    "print my_fun(9)"
   ]
  },
  {
   "cell_type": "markdown",
   "metadata": {},
   "source": [
    "### Problem 2\n",
    "\n",
    "Define a function that takes a list `L` and a value `v` as input. The function should return a list that the first element is v and the second element is the maximum value in L. For example:\n",
    "\n",
    "```\n",
    "L = [1,2,3,0,0]\n",
    "ex_2(L, 2) ---> [2,3]\n",
    "```"
   ]
  },
  {
   "cell_type": "code",
   "execution_count": 12,
   "metadata": {
    "collapsed": false
   },
   "outputs": [
    {
     "name": "stdout",
     "output_type": "stream",
     "text": [
      "[4, 3]\n",
      "[4, 3]\n"
     ]
    }
   ],
   "source": [
    "#### Your code here\n",
    "def sublist(L, v):\n",
    "    return [v, max(L)]\n",
    "\n",
    "Sublist = lambda L,v: [v, max(L)]\n",
    "\n",
    "L = [1,2,3,0,0,0]\n",
    "\n",
    "print sublist(L, 4)\n",
    "print Sublist(L, 4)"
   ]
  },
  {
   "cell_type": "markdown",
   "metadata": {},
   "source": [
    "### Problem 3\n",
    "\n",
    "We discuss functional operators such as `map` and `filter`. They all can take a function as argument.\n",
    "\n",
    "- Define a function `apply_to_zero()` which takes a function as input and return the whatever the function returns when passing 0 to it. More precisely, the function is like:\n",
    "```\n",
    "apply_to_zero(math.sin) ---> sin(0) ---> 0\n",
    "apply_to_zero(math.cos) ---> cos(0) ---> 1\n",
    "apply_to_zero(math.exp) ---> exp(0) ---> 1\n",
    "```"
   ]
  },
  {
   "cell_type": "code",
   "execution_count": 16,
   "metadata": {
    "collapsed": false
   },
   "outputs": [
    {
     "name": "stdout",
     "output_type": "stream",
     "text": [
      "0.0\n",
      "1.0\n",
      "1.0\n",
      "1.0\n"
     ]
    }
   ],
   "source": [
    "#### Your code here\n",
    "import math\n",
    "def apply_to_zero(f):\n",
    "    return f(0)\n",
    "\n",
    "Apply_to_zero = lambda f: f(0)\n",
    "\n",
    "print apply_to_zero(math.sin)\n",
    "print apply_to_zero(math.cos)\n",
    "print apply_to_zero(math.exp)\n",
    "print Apply_to_zero(math.cos)"
   ]
  },
  {
   "cell_type": "code",
   "execution_count": 17,
   "metadata": {
    "collapsed": false
   },
   "outputs": [
    {
     "name": "stdout",
     "output_type": "stream",
     "text": [
      "0.0\n",
      "1.0\n",
      "1.0\n"
     ]
    }
   ],
   "source": [
    "#### Test\n",
    "import math\n",
    "\n",
    "print apply_to_zero(math.sin)\n",
    "print apply_to_zero(math.cos)\n",
    "print apply_to_zero(math.exp)"
   ]
  },
  {
   "cell_type": "markdown",
   "metadata": {},
   "source": [
    "- Create a list of the function `math.sin`, `math.cos` and `math.exp`. Call this list `func_lst`."
   ]
  },
  {
   "cell_type": "code",
   "execution_count": 22,
   "metadata": {
    "collapsed": true
   },
   "outputs": [],
   "source": [
    "#### Your code here\n",
    "func_lst = [math.sin, math.cos, math.exp]"
   ]
  },
  {
   "cell_type": "markdown",
   "metadata": {},
   "source": [
    "- Apply all the functions in `func_lst` to 3. Do this with `map` and `lambda` expression."
   ]
  },
  {
   "cell_type": "code",
   "execution_count": 25,
   "metadata": {
    "collapsed": false
   },
   "outputs": [
    {
     "data": {
      "text/plain": [
       "[0.1411200080598672, -0.9899924966004454, 20.085536923187668]"
      ]
     },
     "execution_count": 25,
     "metadata": {},
     "output_type": "execute_result"
    }
   ],
   "source": [
    "#### Your code here\n",
    "map(lambda x: x(3), func_lst)"
   ]
  },
  {
   "cell_type": "markdown",
   "metadata": {
    "collapsed": true
   },
   "source": [
    "### Problem 4\n",
    "Define a function using filter to return all the lists whose length is 3 from a nested list. For example:\n",
    "```\n",
    "L = [[2, 5, 4, 9], [2, 2], [3, 4, 5]]\n",
    "ex_4(L) ---> [[3,4,5]]\n",
    "```"
   ]
  },
  {
   "cell_type": "code",
   "execution_count": 27,
   "metadata": {
    "collapsed": false
   },
   "outputs": [
    {
     "name": "stdout",
     "output_type": "stream",
     "text": [
      "[[3, 4, 5]]\n",
      "[[3, 4, 5]]\n"
     ]
    }
   ],
   "source": [
    "#### Your code here\n",
    "Ex_4 = lambda L: filter(lambda x: len(x) == 3, L)\n",
    "def ex_4(L):\n",
    "    return filter(lambda x: len(x) == 3, L)\n",
    "\n",
    "L = [[2, 5, 4, 9], [2, 2], [3, 4, 5]]\n",
    "\n",
    "print Ex_4(L)\n",
    "print ex_4(L)"
   ]
  },
  {
   "cell_type": "markdown",
   "metadata": {},
   "source": [
    "### Problem 5"
   ]
  },
  {
   "cell_type": "markdown",
   "metadata": {},
   "source": [
    "- For the list, **Lst**, below, square all its elements."
   ]
  },
  {
   "cell_type": "code",
   "execution_count": 29,
   "metadata": {
    "collapsed": false
   },
   "outputs": [
    {
     "data": {
      "text/plain": [
       "[1, 4, 9]"
      ]
     },
     "execution_count": 29,
     "metadata": {},
     "output_type": "execute_result"
    }
   ],
   "source": [
    "Lst=[1,2,3]\n",
    "#### Your code here\n",
    "from operator import *    #not actually needed\n",
    "\n",
    "map(lambda x: x**2, Lst)"
   ]
  },
  {
   "cell_type": "markdown",
   "metadata": {},
   "source": [
    "- For the nested list, **Lst**, below, square all the elements in each inner list."
   ]
  },
  {
   "cell_type": "code",
   "execution_count": 30,
   "metadata": {
    "collapsed": false
   },
   "outputs": [
    {
     "data": {
      "text/plain": [
       "[[1, 4, 9], [4, 9, 16], [9, 16, 25]]"
      ]
     },
     "execution_count": 30,
     "metadata": {},
     "output_type": "execute_result"
    }
   ],
   "source": [
    "Lst=[[1,2,3],[2,3,4],[3,4,5]]\n",
    "#### Your code here\n",
    "\n",
    "map(lambda y: map(lambda x: x**2, y), Lst)\n"
   ]
  },
  {
   "cell_type": "markdown",
   "metadata": {
    "collapsed": true
   },
   "source": [
    "- For the following nested list, **Lst**, keep the first inner list, square the second and cube the last one."
   ]
  },
  {
   "cell_type": "code",
   "execution_count": 33,
   "metadata": {
    "collapsed": false
   },
   "outputs": [
    {
     "data": {
      "text/plain": [
       "[[1, 2, 3], [4, 9, 16], [27, 64, 125]]"
      ]
     },
     "execution_count": 33,
     "metadata": {},
     "output_type": "execute_result"
    }
   ],
   "source": [
    "Lst=[[1,2,3],[2,3,4],[3,4,5]]\n",
    "#### Your code here\n",
    "[Lst[0], map(lambda x: x**2, Lst[1]), map(lambda x: x**3, Lst[2])]\n",
    "\n",
    "\n",
    "\n",
    "#is there a simpler way? raise each element to the power of it's index minus 1.....how do I call its index? "
   ]
  },
  {
   "cell_type": "markdown",
   "metadata": {},
   "source": [
    "### Problem 6\n",
    "- The function map can be used for multiple lists. Assume the list **Lst** below record the price of 6 consecutive days. Compute the daily return. \n",
    "\n",
    "**Hint**: Since we have data for 6 days, we have only 5 daily return."
   ]
  },
  {
   "cell_type": "code",
   "execution_count": 46,
   "metadata": {
    "collapsed": false
   },
   "outputs": [
    {
     "name": "stdout",
     "output_type": "stream",
     "text": [
      "[10.0, 11.0, 12.0, 13.0, 14.0]\n",
      "[11.0, 12.0, 13.0, 14.0, 15.0]\n"
     ]
    },
    {
     "data": {
      "text/plain": [
       "[1.0, 1.0, 1.0, 1.0, 1.0]"
      ]
     },
     "execution_count": 46,
     "metadata": {},
     "output_type": "execute_result"
    }
   ],
   "source": [
    "Lst=[10.,11.,12.,13.,14.,15.]\n",
    "days = range(1, 6)\n",
    "\n",
    "Lst_1 = Lst[:5]\n",
    "Lst_2 = Lst[1:]\n",
    "\n",
    "print Lst_1\n",
    "print Lst_2\n",
    "#### Your code here\n",
    "\n",
    "map(lambda x, y: x - y, Lst_2, Lst_1)       #this way works but I would think there's an easier way. \n",
    "\n",
    "#Hard to think of one where the list starts at length 6 but gives a return list of length 5\n",
    "    "
   ]
  },
  {
   "cell_type": "markdown",
   "metadata": {},
   "source": [
    "- Find the days with returns greater than 8%. Your code need calculate the return and also report if it's the first day, second day...etc"
   ]
  },
  {
   "cell_type": "code",
   "execution_count": 47,
   "metadata": {
    "collapsed": false
   },
   "outputs": [
    {
     "data": {
      "text/plain": [
       "[(1, 0.1), (2, 0.09090909090909091), (3, 0.08333333333333333)]"
      ]
     },
     "execution_count": 47,
     "metadata": {},
     "output_type": "execute_result"
    }
   ],
   "source": [
    "#### Your code here\n",
    "\n",
    "filter(lambda x: x[1] > 0.08, zip(days, map(lambda x, y: (x - y)/y, Lst_2, Lst_1)))\n"
   ]
  }
 ],
 "metadata": {
  "kernelspec": {
   "display_name": "Python 2",
   "language": "python",
   "name": "python2"
  },
  "language_info": {
   "codemirror_mode": {
    "name": "ipython",
    "version": 2
   },
   "file_extension": ".py",
   "mimetype": "text/x-python",
   "name": "python",
   "nbconvert_exporter": "python",
   "pygments_lexer": "ipython2",
   "version": "2.7.13"
  }
 },
 "nbformat": 4,
 "nbformat_minor": 0
}
