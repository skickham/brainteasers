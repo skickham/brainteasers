{
 "cells": [
  {
   "cell_type": "markdown",
   "metadata": {},
   "source": [
    "# Table of Contents\n",
    "\n",
    "1. Dicts\n",
    "\n",
    "2. Sets\n",
    "\n",
    "3. Challenges\n",
    "    + Friend Circles\n",
    "    \n",
    "4. Alphabet Rangoli"
   ]
  },
  {
   "cell_type": "code",
   "execution_count": null,
   "metadata": {
    "collapsed": true
   },
   "outputs": [],
   "source": []
  },
  {
   "cell_type": "markdown",
   "metadata": {},
   "source": [
    "# Making Anagrams (Dicts)\n",
    "https://www.hackerrank.com/challenges/ctci-making-anagrams/problem"
   ]
  },
  {
   "cell_type": "code",
   "execution_count": 14,
   "metadata": {},
   "outputs": [
    {
     "name": "stdout",
     "output_type": "stream",
     "text": [
      "ffghe\n",
      "fke\n",
      "4\n"
     ]
    }
   ],
   "source": [
    "def number_needed(a, b):\n",
    "    \n",
    "    #create letter count dictionary for string a \n",
    "    a_dict = {}\n",
    "    for letter in a:\n",
    "        if letter in a_dict.keys():\n",
    "            a_dict[letter] += 1\n",
    "        else:\n",
    "            a_dict[letter] = 1\n",
    "    \n",
    "    #create letter count dictionary for string b\n",
    "    b_dict = {}\n",
    "    for letter in b:\n",
    "        if letter in b_dict.keys():\n",
    "            b_dict[letter] += 1\n",
    "        else:\n",
    "            b_dict[letter] = 1\n",
    "    \n",
    "    #create dictionary of common letters\n",
    "    common_letters = {}\n",
    "    for n in list(set(a_dict) & set(b_dict)):\n",
    "        common_letters[n] = min(a_dict[n], b_dict[n])\n",
    "    \n",
    "    #find the sum of the common letters and subtract from the lengths of the words\n",
    "    anagram_length = sum(common_letters.values())\n",
    "    to_delete = (len(a) - anagram_length) + (len(b) - anagram_length)\n",
    "    \n",
    "    return to_delete\n",
    "\n",
    "a = input().strip()\n",
    "b = input().strip()\n",
    "\n",
    "print(number_needed(a, b))\n"
   ]
  },
  {
   "cell_type": "markdown",
   "metadata": {},
   "source": [
    "# Designer Door Mat (Strings)\n",
    "Mr. Vincent works in a door mat manufacturing company. One day, he designed a new door mat with the following specifications:\n",
    "\n",
    "+ Mat size must be X. ( is an odd natural number, and  is  times .)\n",
    "+ The design should have 'WELCOME' written in the center.\n",
    "+ The design pattern should only use |, . and - characters.\n",
    "\n",
    "https://www.hackerrank.com/challenges/designer-door-mat/problem"
   ]
  },
  {
   "cell_type": "code",
   "execution_count": 30,
   "metadata": {},
   "outputs": [
    {
     "name": "stdout",
     "output_type": "stream",
     "text": [
      "15 45\n",
      "---------------------.|.---------------------\n",
      "------------------.|..|..|.------------------\n",
      "---------------.|..|..|..|..|.---------------\n",
      "------------.|..|..|..|..|..|..|.------------\n",
      "---------.|..|..|..|..|..|..|..|..|.---------\n",
      "------.|..|..|..|..|..|..|..|..|..|..|.------\n",
      "---.|..|..|..|..|..|..|..|..|..|..|..|..|.---\n",
      "-------------------WELCOME-------------------\n",
      "---.|..|..|..|..|..|..|..|..|..|..|..|..|.---\n",
      "------.|..|..|..|..|..|..|..|..|..|..|.------\n",
      "---------.|..|..|..|..|..|..|..|..|.---------\n",
      "------------.|..|..|..|..|..|..|.------------\n",
      "---------------.|..|..|..|..|.---------------\n",
      "------------------.|..|..|.------------------\n",
      "---------------------.|.---------------------\n"
     ]
    }
   ],
   "source": [
    "N, M = map(int,input().split()) # More than 6 lines of code will result in 0 score. Blank lines are not counted.\n",
    "for i in range(1,N,2): \n",
    "    print('-'*((M-3*i)//2) + '.|.'*i + '-'*((M-3*i)//2))\n",
    "print('-'*((M - 7)//2) + 'WELCOME' + '-'*((M - 7)//2)) \n",
    "for i in range(N-2,-1,-2): \n",
    "    print('-'*((M-3*i)//2) + '.|.'*i + '-'*((M-3*i)//2))\n"
   ]
  },
  {
   "cell_type": "markdown",
   "metadata": {},
   "source": [
    "# String Formatting with Numbers\n",
    "Given an integer, n, print the following values for each integer i from 1 to n:\n",
    "\n",
    "1. Decimal\n",
    "2. Octal\n",
    "3. Hexadecimal (capitalized)\n",
    "4. Binary\n",
    "\n",
    "The four values must be printed on a single line in the order specified above for each i from 1 to n. Each value should be space-padded to match the width of the binary value of n."
   ]
  },
  {
   "cell_type": "code",
   "execution_count": 50,
   "metadata": {},
   "outputs": [
    {
     "name": "stdout",
     "output_type": "stream",
     "text": [
      "   1    1    1    1\n",
      "   2    2    2   10\n",
      "   3    3    3   11\n",
      "   4    4    4  100\n",
      "   5    5    5  101\n",
      "   6    6    6  110\n",
      "   7    7    7  111\n",
      "   8   10    8 1000\n",
      "   9   11    9 1001\n",
      "  10   12    A 1010\n",
      "  11   13    B 1011\n"
     ]
    }
   ],
   "source": [
    "def print_formatted(number):\n",
    "    col_width = len(bin(number).split('b')[1])\n",
    "    \n",
    "    for i in range(1, number+1):\n",
    "        decimal = str(i)\n",
    "        decimal = ' '*(col_width - len(decimal)) + decimal\n",
    "        \n",
    "        octal = str(oct(i).split('o')[1])\n",
    "        octal = ' '*(col_width - len(octal)) + octal\n",
    "        \n",
    "        hexadecimal = str(hex(i).split('x')[1]).upper()\n",
    "        hexadecimal = ' '*(col_width-len(hexadecimal)) + hexadecimal\n",
    "        \n",
    "        binary = str(bin(i).split('b')[1])\n",
    "        binary = ' '*(col_width-len(binary)) + binary\n",
    "        \n",
    "        print(decimal, octal, hexadecimal, binary)\n",
    "    \n",
    "\n",
    "print_formatted(11)"
   ]
  },
  {
   "cell_type": "markdown",
   "metadata": {},
   "source": [
    "# Alphabet Rangoli\n",
    "\n",
    "You are given an integer, N. Your task is to print an alphabet rangoli of size N. (Rangoli is a form of Indian folk art based on creation of patterns.)\n",
    "\n",
    "Different sizes of alphabet rangoli are shown below:\n",
    "\n",
    "### size 3\n",
    "```\n",
    "----c----\n",
    "--c-b-c--\n",
    "c-b-a-b-c\n",
    "--c-b-c--\n",
    "----c----\n",
    "```\n",
    "\n",
    "https://www.hackerrank.com/challenges/alphabet-rangoli/problem"
   ]
  },
  {
   "cell_type": "code",
   "execution_count": 134,
   "metadata": {},
   "outputs": [
    {
     "name": "stdout",
     "output_type": "stream",
     "text": [
      "----------------------------o----------------------------\n",
      "--------------------------o-n-o--------------------------\n",
      "------------------------o-n-m-n-o------------------------\n",
      "----------------------o-n-m-l-m-n-o----------------------\n",
      "--------------------o-n-m-l-k-l-m-n-o--------------------\n",
      "------------------o-n-m-l-k-j-k-l-m-n-o------------------\n",
      "----------------o-n-m-l-k-j-i-j-k-l-m-n-o----------------\n",
      "--------------o-n-m-l-k-j-i-h-i-j-k-l-m-n-o--------------\n",
      "------------o-n-m-l-k-j-i-h-g-h-i-j-k-l-m-n-o------------\n",
      "----------o-n-m-l-k-j-i-h-g-f-g-h-i-j-k-l-m-n-o----------\n",
      "--------o-n-m-l-k-j-i-h-g-f-e-f-g-h-i-j-k-l-m-n-o--------\n",
      "------o-n-m-l-k-j-i-h-g-f-e-d-e-f-g-h-i-j-k-l-m-n-o------\n",
      "----o-n-m-l-k-j-i-h-g-f-e-d-c-d-e-f-g-h-i-j-k-l-m-n-o----\n",
      "--o-n-m-l-k-j-i-h-g-f-e-d-c-b-c-d-e-f-g-h-i-j-k-l-m-n-o--\n",
      "o-n-m-l-k-j-i-h-g-f-e-d-c-b-a-b-c-d-e-f-g-h-i-j-k-l-m-n-o\n",
      "--o-n-m-l-k-j-i-h-g-f-e-d-c-b-c-d-e-f-g-h-i-j-k-l-m-n-o--\n",
      "----o-n-m-l-k-j-i-h-g-f-e-d-c-d-e-f-g-h-i-j-k-l-m-n-o----\n",
      "------o-n-m-l-k-j-i-h-g-f-e-d-e-f-g-h-i-j-k-l-m-n-o------\n",
      "--------o-n-m-l-k-j-i-h-g-f-e-f-g-h-i-j-k-l-m-n-o--------\n",
      "----------o-n-m-l-k-j-i-h-g-f-g-h-i-j-k-l-m-n-o----------\n",
      "------------o-n-m-l-k-j-i-h-g-h-i-j-k-l-m-n-o------------\n",
      "--------------o-n-m-l-k-j-i-h-i-j-k-l-m-n-o--------------\n",
      "----------------o-n-m-l-k-j-i-j-k-l-m-n-o----------------\n",
      "------------------o-n-m-l-k-j-k-l-m-n-o------------------\n",
      "--------------------o-n-m-l-k-l-m-n-o--------------------\n",
      "----------------------o-n-m-l-m-n-o----------------------\n",
      "------------------------o-n-m-n-o------------------------\n",
      "--------------------------o-n-o--------------------------\n",
      "----------------------------o----------------------------\n"
     ]
    }
   ],
   "source": [
    "def print_rangoli(size):\n",
    "    #create a list of lowercase letters\n",
    "    x = [chr(i) for i in range(ord('a'),ord('z')+1)]\n",
    "    \n",
    "    #find the width of the rangoli\n",
    "    width = (4*size - 3)\n",
    "    \n",
    "    #initiate a blank list to keep track of each row's design \n",
    "    design_rows = []\n",
    "    \n",
    "    #iterate backwards through the letters given the size\n",
    "    for i in range(size-1,-1,-1):\n",
    "        \n",
    "        #init an empty list to collect the letters for each row\n",
    "        letters = []\n",
    "        \n",
    "        #iterate through the range of the current letter, backwards \n",
    "        for j in range(i+1):\n",
    "            #append the letters to the list\n",
    "            letters.append(x[size-j-1])\n",
    "        \n",
    "        #join the letters for that single row into the design ('c-b-a')\n",
    "        letters = '-'.join(letters)\n",
    "        \n",
    "        #add the other half of the letters design ('c-b-a-b-c')\n",
    "        letters = letters + letters[::-1][1:]\n",
    "        \n",
    "        #append the new row to the design list\n",
    "        design_rows.append(letters)\n",
    "    \n",
    "    #double up the design rows for top and bottom of diamond\n",
    "    design_rows = design_rows[::-1] + design_rows[1:]\n",
    "    \n",
    "    #iterate through each row and print extra '-'\n",
    "    for x in design_rows:\n",
    "        print('-'*((width-len(x))//2) + x + '-'*((width-len(x))//2))\n",
    "\n",
    "        \n",
    "#test it!\n",
    "print_rangoli(15)"
   ]
  },
  {
   "cell_type": "markdown",
   "metadata": {},
   "source": [
    "# Standardize phone numbers using decorators (Strings, decorators)\n",
    "\n",
    "Let's dive into decorators! You are given N mobile numbers. Sort them in ascending order then print them in the standard format shown below:\n",
    "\n",
    "\n",
    "+91 xxxxx xxxxx\n",
    "\n",
    "\n",
    "The given mobile numbers may have +91, 91 or 0 written before the actual 10 digit number. Alternatively, there may not be any prefix at all. \n",
    "\n",
    "https://www.hackerrank.com/challenges/standardize-mobile-number-using-decorators/problem"
   ]
  },
  {
   "cell_type": "code",
   "execution_count": 140,
   "metadata": {},
   "outputs": [
    {
     "name": "stdout",
     "output_type": "stream",
     "text": [
      "2\n",
      "917748437282\n",
      "07774536273\n",
      "+91 77745 36273\n"
     ]
    }
   ],
   "source": [
    "def wrapper(f):\n",
    "    def fun(l):\n",
    "        number = ''.join(l)[-10:]\n",
    "        number = '+91 ' + str(number[:5]) +' ' + str(number[5:])\n",
    "#         print(number)\n",
    "        return number\n",
    "    return fun\n",
    "\n",
    "@wrapper\n",
    "def sort_phone(l):\n",
    "    print(*sorted(l), sep='\\n')\n",
    "\n",
    "if __name__ == '__main__':\n",
    "    l = [input() for _ in range(int(input()))]\n",
    "    sort_phone(l) \n"
   ]
  },
  {
   "cell_type": "code",
   "execution_count": 141,
   "metadata": {},
   "outputs": [
    {
     "ename": "NameError",
     "evalue": "name 'f' is not defined",
     "output_type": "error",
     "traceback": [
      "\u001b[1;31m---------------------------------------------------------------------------\u001b[0m",
      "\u001b[1;31mNameError\u001b[0m                                 Traceback (most recent call last)",
      "\u001b[1;32m<ipython-input-141-68f5facb6bc3>\u001b[0m in \u001b[0;36m<module>\u001b[1;34m()\u001b[0m\n\u001b[1;32m----> 1\u001b[1;33m \u001b[0mf\u001b[0m\u001b[1;33m(\u001b[0m\u001b[1;34m\"p\"\u001b[0m \u001b[1;33m+\u001b[0m \u001b[1;34m\"pp\"\u001b[0m\u001b[1;33m)\u001b[0m\u001b[1;33m\u001b[0m\u001b[0m\n\u001b[0m",
      "\u001b[1;31mNameError\u001b[0m: name 'f' is not defined"
     ]
    }
   ],
   "source": [
    "f(\"p\" + \"pp\")"
   ]
  },
  {
   "cell_type": "markdown",
   "metadata": {
    "collapsed": true
   },
   "source": [
    "# Friend Circles\n",
    "\n",
    "https://leetcode.com/problems/friend-circles/description/"
   ]
  },
  {
   "cell_type": "code",
   "execution_count": 49,
   "metadata": {},
   "outputs": [
    {
     "name": "stdout",
     "output_type": "stream",
     "text": [
      "friendships are: [(0, 0), (1, 0), (1, 1), (2, 2)]\n",
      "\n",
      "final adjustment = [(1, 1), (2, 2), (1, 0)]\n",
      "final adjustment = [(2, 2), (1, 0), (1, 0)]\n"
     ]
    },
    {
     "ename": "IndexError",
     "evalue": "list index out of range",
     "output_type": "error",
     "traceback": [
      "\u001b[1;31m---------------------------------------------------------------------------\u001b[0m",
      "\u001b[1;31mIndexError\u001b[0m                                Traceback (most recent call last)",
      "\u001b[1;32m<ipython-input-49-4f4172a2a0a7>\u001b[0m in \u001b[0;36m<module>\u001b[1;34m()\u001b[0m\n\u001b[0;32m     48\u001b[0m \u001b[0mM\u001b[0m \u001b[1;33m=\u001b[0m \u001b[1;33m[\u001b[0m\u001b[1;33m[\u001b[0m\u001b[1;36m1\u001b[0m\u001b[1;33m,\u001b[0m\u001b[1;36m1\u001b[0m\u001b[1;33m,\u001b[0m\u001b[1;36m0\u001b[0m\u001b[1;33m]\u001b[0m\u001b[1;33m,\u001b[0m\u001b[1;33m[\u001b[0m\u001b[1;36m1\u001b[0m\u001b[1;33m,\u001b[0m\u001b[1;36m1\u001b[0m\u001b[1;33m,\u001b[0m\u001b[1;36m0\u001b[0m\u001b[1;33m]\u001b[0m\u001b[1;33m,\u001b[0m\u001b[1;33m[\u001b[0m\u001b[1;36m0\u001b[0m\u001b[1;33m,\u001b[0m\u001b[1;36m0\u001b[0m\u001b[1;33m,\u001b[0m\u001b[1;36m1\u001b[0m\u001b[1;33m]\u001b[0m\u001b[1;33m]\u001b[0m\u001b[1;33m\u001b[0m\u001b[0m\n\u001b[0;32m     49\u001b[0m \u001b[1;33m\u001b[0m\u001b[0m\n\u001b[1;32m---> 50\u001b[1;33m \u001b[0mfindCircleNum\u001b[0m\u001b[1;33m(\u001b[0m\u001b[0mM\u001b[0m\u001b[1;33m)\u001b[0m\u001b[1;33m\u001b[0m\u001b[0m\n\u001b[0m",
      "\u001b[1;32m<ipython-input-49-4f4172a2a0a7>\u001b[0m in \u001b[0;36mfindCircleNum\u001b[1;34m(M)\u001b[0m\n\u001b[0;32m     38\u001b[0m             \u001b[1;32mreturn\u001b[0m \u001b[0mfriendships\u001b[0m\u001b[1;33m\u001b[0m\u001b[0m\n\u001b[0;32m     39\u001b[0m \u001b[1;33m\u001b[0m\u001b[0m\n\u001b[1;32m---> 40\u001b[1;33m         \u001b[0mpp\u001b[0m \u001b[1;33m=\u001b[0m \u001b[0mreduce_friendships\u001b[0m\u001b[1;33m(\u001b[0m\u001b[0mfriendships\u001b[0m\u001b[1;33m)\u001b[0m\u001b[1;33m\u001b[0m\u001b[0m\n\u001b[0m\u001b[0;32m     41\u001b[0m         \u001b[0mprint\u001b[0m\u001b[1;33m(\u001b[0m\u001b[0mpp\u001b[0m\u001b[1;33m)\u001b[0m\u001b[1;33m\u001b[0m\u001b[0m\n\u001b[0;32m     42\u001b[0m \u001b[1;31m#             print([other_item[0] for other_item in friendships])\u001b[0m\u001b[1;33m\u001b[0m\u001b[1;33m\u001b[0m\u001b[0m\n",
      "\u001b[1;32m<ipython-input-49-4f4172a2a0a7>\u001b[0m in \u001b[0;36mreduce_friendships\u001b[1;34m(friendships)\u001b[0m\n\u001b[0;32m     19\u001b[0m \u001b[1;33m\u001b[0m\u001b[0m\n\u001b[0;32m     20\u001b[0m             \u001b[1;32mfor\u001b[0m \u001b[0mi\u001b[0m \u001b[1;32min\u001b[0m \u001b[0mrange\u001b[0m\u001b[1;33m(\u001b[0m\u001b[0mlen\u001b[0m\u001b[1;33m(\u001b[0m\u001b[0mfriendships\u001b[0m\u001b[1;33m)\u001b[0m\u001b[1;33m)\u001b[0m\u001b[1;33m:\u001b[0m\u001b[1;33m\u001b[0m\u001b[0m\n\u001b[1;32m---> 21\u001b[1;33m                 \u001b[0mcurrent_item\u001b[0m \u001b[1;33m=\u001b[0m \u001b[0mfriendships\u001b[0m\u001b[1;33m[\u001b[0m\u001b[0mi\u001b[0m\u001b[1;33m]\u001b[0m\u001b[1;33m\u001b[0m\u001b[0m\n\u001b[0m\u001b[0;32m     22\u001b[0m     \u001b[1;31m#             print('friendship item ' + str(i) + ' ' + str(friendships[i]))\u001b[0m\u001b[1;33m\u001b[0m\u001b[1;33m\u001b[0m\u001b[0m\n\u001b[0;32m     23\u001b[0m     \u001b[1;31m#             print('1st friend is ' + str(friendships[i][1]))\u001b[0m\u001b[1;33m\u001b[0m\u001b[1;33m\u001b[0m\u001b[0m\n",
      "\u001b[1;31mIndexError\u001b[0m: list index out of range"
     ]
    }
   ],
   "source": [
    "def findCircleNum(M):\n",
    "        \"\"\"\n",
    "        :type M: List[List[int]]\n",
    "        :rtype: int\n",
    "        \"\"\"\n",
    "        # a person alone counts as a single circle, unless they are part of a larger circle. \n",
    "        # so keep iterating down until there are no additional ways to combine circles\n",
    "        \n",
    "        #first list all direct friendships, then build indirect relationships from there using combinations\n",
    "        friendships = []\n",
    "        for i in range(len(M)):\n",
    "            for j in range(i+1):\n",
    "                if M[i][j] == 1:\n",
    "                    friendships.append((i,j))\n",
    "        print('friendships are: ' + str(friendships) + '\\n')\n",
    "        \n",
    "        \n",
    "        def reduce_friendships(friendships):\n",
    "            \n",
    "            for i in range(len(friendships)):\n",
    "                current_item = friendships[i]\n",
    "    #             print('friendship item ' + str(i) + ' ' + str(friendships[i]))\n",
    "    #             print('1st friend is ' + str(friendships[i][1]))\n",
    "    #             print('list of remaining first friends are ' + str([item[0] for item in friendships if item != friendships[i]]))\n",
    "                if friendships[i][1] in [item[0] for item in friendships if item != friendships[i]]:\n",
    "    #                 print('FRIENDSHIP FOUND FOR ' + str(friendships[i][1]))\n",
    "                    item_to_pop = [item for item in friendships if item[0] == friendships[i][1]]\n",
    "    #                 print('pop: ' + str(item_to_pop))\n",
    "                    new_friendship = [(friendships[i][0], item[1]) for item in friendships if item[0] == friendships[i][1]]\n",
    "    #                 print('new friendship: ' + str(new_friendship))\n",
    "                    friendships = friendships + new_friendship\n",
    "    #                 print(friendships)\n",
    "                    friendships.remove(item_to_pop[0])\n",
    "                    friendships.remove(current_item)\n",
    "                    final = friendships\n",
    "                    print('final adjustment = ' + str(friendships))\n",
    "                    reduce_friendships(final)\n",
    "            return friendships\n",
    "        \n",
    "        pp = reduce_friendships(friendships)\n",
    "        print(pp)\n",
    "#             print([other_item[0] for other_item in friendships])\n",
    "#             if item[1] == any([other_item[0] for other_item in friendships]):\n",
    "#                 print(item)\n",
    "        \n",
    "                    \n",
    "        \n",
    "M = [[1,1,0],[1,1,0],[0,0,1]]\n",
    "\n",
    "findCircleNum(M)"
   ]
  },
  {
   "cell_type": "code",
   "execution_count": 91,
   "metadata": {},
   "outputs": [
    {
     "name": "stdout",
     "output_type": "stream",
     "text": [
      "friendships are: [(0, 0), (1, 0), (1, 1), (2, 2)]\n",
      "\n",
      "length of friendships is 4\tindex is currently: 0\n",
      "current item: (0, 0)\n",
      "friendships: [(0, 0), (1, 0), (1, 1), (2, 2)]\n",
      "other friendships: [(1, 0), (1, 1), (2, 2)]\n",
      "length of friendships is 4\tindex is currently: 1\n",
      "current item: (1, 0)\n",
      "friendships: [(0, 0), (1, 0), (1, 1), (2, 2)]\n",
      "other friendships: [(0, 0), (1, 1), (2, 2)]\n",
      "[(0, 0)]\n",
      "item to pop: [(0, 0)]\n",
      "new friendship: [(1, 0)]\n",
      "final adjustment = [(1, 1), (2, 2), (1, 0)]\n",
      "\n",
      "length of friendships is 3\tindex is currently: 0\n",
      "current item: (1, 1)\n",
      "friendships: [(1, 1), (2, 2), (1, 0)]\n",
      "other friendships: [(2, 2), (1, 0)]\n",
      "[(1, 0)]\n",
      "item to pop: [(1, 0)]\n",
      "new friendship: [(1, 0)]\n",
      "final adjustment = [(2, 2), (1, 0)]\n",
      "\n",
      "length of friendships is 2\tindex is currently: 0\n",
      "current item: (2, 2)\n",
      "friendships: [(2, 2), (1, 0)]\n",
      "other friendships: [(1, 0)]\n",
      "length of friendships is 2\tindex is currently: 1\n",
      "current item: (1, 0)\n",
      "friendships: [(2, 2), (1, 0)]\n",
      "other friendships: [(2, 2)]\n",
      "length of friendships is 2\tindex is currently: 1\n",
      "current item: (1, 0)\n",
      "friendships: [(2, 2), (1, 0)]\n",
      "other friendships: [(2, 2)]\n",
      "length of friendships is 2\tindex is currently: 2\n"
     ]
    },
    {
     "ename": "IndexError",
     "evalue": "list index out of range",
     "output_type": "error",
     "traceback": [
      "\u001b[1;31m---------------------------------------------------------------------------\u001b[0m",
      "\u001b[1;31mIndexError\u001b[0m                                Traceback (most recent call last)",
      "\u001b[1;32m<ipython-input-91-9887d5b57c71>\u001b[0m in \u001b[0;36m<module>\u001b[1;34m()\u001b[0m\n\u001b[0;32m     54\u001b[0m \u001b[0mM\u001b[0m \u001b[1;33m=\u001b[0m \u001b[1;33m[\u001b[0m\u001b[1;33m[\u001b[0m\u001b[1;36m1\u001b[0m\u001b[1;33m,\u001b[0m\u001b[1;36m1\u001b[0m\u001b[1;33m,\u001b[0m\u001b[1;36m0\u001b[0m\u001b[1;33m]\u001b[0m\u001b[1;33m,\u001b[0m\u001b[1;33m[\u001b[0m\u001b[1;36m1\u001b[0m\u001b[1;33m,\u001b[0m\u001b[1;36m1\u001b[0m\u001b[1;33m,\u001b[0m\u001b[1;36m0\u001b[0m\u001b[1;33m]\u001b[0m\u001b[1;33m,\u001b[0m\u001b[1;33m[\u001b[0m\u001b[1;36m0\u001b[0m\u001b[1;33m,\u001b[0m\u001b[1;36m0\u001b[0m\u001b[1;33m,\u001b[0m\u001b[1;36m1\u001b[0m\u001b[1;33m]\u001b[0m\u001b[1;33m]\u001b[0m\u001b[1;33m\u001b[0m\u001b[0m\n\u001b[0;32m     55\u001b[0m \u001b[1;33m\u001b[0m\u001b[0m\n\u001b[1;32m---> 56\u001b[1;33m \u001b[0mfindCircleNum\u001b[0m\u001b[1;33m(\u001b[0m\u001b[0mM\u001b[0m\u001b[1;33m)\u001b[0m\u001b[1;33m\u001b[0m\u001b[0m\n\u001b[0m",
      "\u001b[1;32m<ipython-input-91-9887d5b57c71>\u001b[0m in \u001b[0;36mfindCircleNum\u001b[1;34m(M)\u001b[0m\n\u001b[0;32m     44\u001b[0m \u001b[1;33m\u001b[0m\u001b[0m\n\u001b[0;32m     45\u001b[0m \u001b[1;33m\u001b[0m\u001b[0m\n\u001b[1;32m---> 46\u001b[1;33m         \u001b[0mpp\u001b[0m \u001b[1;33m=\u001b[0m \u001b[0mreduce_friendships\u001b[0m\u001b[1;33m(\u001b[0m\u001b[0mfriendships\u001b[0m\u001b[1;33m)\u001b[0m\u001b[1;33m\u001b[0m\u001b[0m\n\u001b[0m\u001b[0;32m     47\u001b[0m         \u001b[0mprint\u001b[0m\u001b[1;33m(\u001b[0m\u001b[1;34m'\\n\\nfinal friendshisp === '\u001b[0m \u001b[1;33m+\u001b[0m \u001b[0mstr\u001b[0m\u001b[1;33m(\u001b[0m\u001b[0mpp\u001b[0m\u001b[1;33m)\u001b[0m\u001b[1;33m)\u001b[0m\u001b[1;33m\u001b[0m\u001b[0m\n\u001b[0;32m     48\u001b[0m \u001b[1;31m#             print([other_item[0] for other_item in friendships])\u001b[0m\u001b[1;33m\u001b[0m\u001b[1;33m\u001b[0m\u001b[0m\n",
      "\u001b[1;32m<ipython-input-91-9887d5b57c71>\u001b[0m in \u001b[0;36mreduce_friendships\u001b[1;34m(friendships)\u001b[0m\n\u001b[0;32m     36\u001b[0m                     \u001b[0mprint\u001b[0m\u001b[1;33m(\u001b[0m\u001b[1;34m'final adjustment = '\u001b[0m \u001b[1;33m+\u001b[0m \u001b[0mstr\u001b[0m\u001b[1;33m(\u001b[0m\u001b[0mfriendships\u001b[0m\u001b[1;33m)\u001b[0m\u001b[1;33m+\u001b[0m\u001b[1;34m'\\n'\u001b[0m\u001b[1;33m)\u001b[0m\u001b[1;33m\u001b[0m\u001b[0m\n\u001b[0;32m     37\u001b[0m \u001b[1;33m\u001b[0m\u001b[0m\n\u001b[1;32m---> 38\u001b[1;33m                     \u001b[0mreduce_friendships\u001b[0m\u001b[1;33m(\u001b[0m\u001b[0mfriendships\u001b[0m\u001b[1;33m)\u001b[0m\u001b[1;33m\u001b[0m\u001b[0m\n\u001b[0m\u001b[0;32m     39\u001b[0m \u001b[1;33m\u001b[0m\u001b[0m\n\u001b[0;32m     40\u001b[0m \u001b[1;33m\u001b[0m\u001b[0m\n",
      "\u001b[1;32m<ipython-input-91-9887d5b57c71>\u001b[0m in \u001b[0;36mreduce_friendships\u001b[1;34m(friendships)\u001b[0m\n\u001b[0;32m     19\u001b[0m \u001b[1;33m\u001b[0m\u001b[0m\n\u001b[0;32m     20\u001b[0m                 \u001b[0mprint\u001b[0m\u001b[1;33m(\u001b[0m\u001b[1;34m'length of friendships is '\u001b[0m \u001b[1;33m+\u001b[0m \u001b[0mstr\u001b[0m\u001b[1;33m(\u001b[0m\u001b[0mlen\u001b[0m\u001b[1;33m(\u001b[0m\u001b[0mfriendships\u001b[0m\u001b[1;33m)\u001b[0m\u001b[1;33m)\u001b[0m \u001b[1;33m+\u001b[0m \u001b[1;34m'\\tindex is currently: '\u001b[0m \u001b[1;33m+\u001b[0m\u001b[0mstr\u001b[0m\u001b[1;33m(\u001b[0m\u001b[0mi\u001b[0m\u001b[1;33m)\u001b[0m\u001b[1;33m)\u001b[0m\u001b[1;33m\u001b[0m\u001b[0m\n\u001b[1;32m---> 21\u001b[1;33m                 \u001b[0mcurrent_item\u001b[0m \u001b[1;33m=\u001b[0m \u001b[0mfriendships\u001b[0m\u001b[1;33m[\u001b[0m\u001b[0mi\u001b[0m\u001b[1;33m]\u001b[0m\u001b[1;33m\u001b[0m\u001b[0m\n\u001b[0m\u001b[0;32m     22\u001b[0m                 \u001b[0mother_friendships\u001b[0m \u001b[1;33m=\u001b[0m \u001b[1;33m[\u001b[0m\u001b[0mx\u001b[0m \u001b[1;32mfor\u001b[0m \u001b[0mx\u001b[0m \u001b[1;32min\u001b[0m \u001b[0mfriendships\u001b[0m \u001b[1;32mif\u001b[0m \u001b[0mx\u001b[0m \u001b[1;33m!=\u001b[0m \u001b[0mcurrent_item\u001b[0m\u001b[1;33m]\u001b[0m\u001b[1;33m\u001b[0m\u001b[0m\n\u001b[0;32m     23\u001b[0m                 \u001b[0mprint\u001b[0m\u001b[1;33m(\u001b[0m\u001b[1;34m'current item: '\u001b[0m \u001b[1;33m+\u001b[0m \u001b[0mstr\u001b[0m\u001b[1;33m(\u001b[0m\u001b[0mcurrent_item\u001b[0m\u001b[1;33m)\u001b[0m \u001b[1;33m+\u001b[0m \u001b[1;34m'\\nfriendships: '\u001b[0m \u001b[1;33m+\u001b[0m \u001b[0mstr\u001b[0m\u001b[1;33m(\u001b[0m\u001b[0mfriendships\u001b[0m\u001b[1;33m)\u001b[0m \u001b[1;33m+\u001b[0m \u001b[1;34m'\\nother friendships: '\u001b[0m \u001b[1;33m+\u001b[0m \u001b[0mstr\u001b[0m\u001b[1;33m(\u001b[0m\u001b[0mother_friendships\u001b[0m\u001b[1;33m)\u001b[0m\u001b[1;33m)\u001b[0m\u001b[1;33m\u001b[0m\u001b[0m\n",
      "\u001b[1;31mIndexError\u001b[0m: list index out of range"
     ]
    }
   ],
   "source": [
    "def findCircleNum(M):\n",
    "        \n",
    "        # a person alone counts as a single circle, unless they are part of a larger circle. \n",
    "        # so keep iterating down until there are no additional ways to combine circles\n",
    "        \n",
    "        #first list all direct friendships, then build indirect relationships from there using combinations\n",
    "        friendships = []\n",
    "        for i in range(len(M)):\n",
    "            for j in range(i+1):\n",
    "                if M[i][j] == 1:\n",
    "                    friendships.append((i,j))\n",
    "        print('friendships are: ' + str(friendships) + '\\n')\n",
    "        \n",
    "        ###########################################################\n",
    "        def reduce_friendships(friendships):\n",
    "#             friendships = sorted(friendships)\n",
    "\n",
    "            for i in range(len(friendships)):\n",
    "                \n",
    "                print('length of friendships is ' + str(len(friendships)) + '\\tindex is currently: ' +str(i))\n",
    "                current_item = friendships[i]\n",
    "                other_friendships = [x for x in friendships if x != current_item]\n",
    "                print('current item: ' + str(current_item) + '\\nfriendships: ' + str(friendships) + '\\nother friendships: ' + str(other_friendships))\n",
    "\n",
    "                if current_item[1] in [item[0] for item in other_friendships]:\n",
    "\n",
    "                    item_to_pop = [item for item in other_friendships if item[0] == current_item[1]]\n",
    "                    print(item_to_pop)\n",
    "                    new_friendship = [(current_item[0], item_to_pop[0][1])]\n",
    "                    print('item to pop: ' + str(item_to_pop) + '\\nnew friendship: ' + str(new_friendship))\n",
    "\n",
    "                    friendships.remove(item_to_pop[0])\n",
    "                    friendships.remove(current_item)\n",
    "                    friendships = friendships + new_friendship\n",
    "\n",
    "                    print('final adjustment = ' + str(friendships)+'\\n')\n",
    "\n",
    "                    reduce_friendships(friendships)\n",
    "            \n",
    "            \n",
    "            return friendships\n",
    "        ###########################################################\n",
    "        \n",
    "        \n",
    "        \n",
    "        pp = reduce_friendships(friendships)\n",
    "        print('\\n\\nfinal friendshisp === ' + str(pp))\n",
    "#             print([other_item[0] for other_item in friendships])\n",
    "#             if item[1] == any([other_item[0] for other_item in friendships]):\n",
    "#                 print(item)\n",
    "        return len(pp)\n",
    "                    \n",
    "        \n",
    "M = [[1,1,0],[1,1,0],[0,0,1]]\n",
    "\n",
    "findCircleNum(M)"
   ]
  },
  {
   "cell_type": "code",
   "execution_count": 73,
   "metadata": {},
   "outputs": [
    {
     "name": "stdout",
     "output_type": "stream",
     "text": [
      "current item: (1, 1)\n",
      "friendships: [(1, 1), (2, 2), (1, 0)]\n",
      "other friendships: [(2, 2), (1, 0)]\n",
      "[(1, 0)]\n",
      "item to pop: [(1, 0)]\n",
      "new friendship: [(1, 0)]\n",
      "final adjustment = [(2, 2), (1, 0)]\n",
      "\n",
      "current item: (2, 2)\n",
      "friendships: [(2, 2), (1, 0)]\n",
      "other friendships: [(1, 0)]\n"
     ]
    },
    {
     "data": {
      "text/plain": [
       "[(2, 2), (1, 0)]"
      ]
     },
     "execution_count": 73,
     "metadata": {},
     "output_type": "execute_result"
    }
   ],
   "source": [
    "def reduce_friendships(friendships):\n",
    "#     friendships = sorted(friendships)\n",
    "        \n",
    "    for i in range(len(friendships)):\n",
    "      \n",
    "        current_item = friendships[i]\n",
    "        other_friendships = [x for x in friendships if x != current_item]\n",
    "        print('current item: ' + str(current_item) + '\\nfriendships: ' + str(friendships) + '\\nother friendships: ' + str(other_friendships))\n",
    "        \n",
    "        if current_item[1] in [item[0] for item in other_friendships]:\n",
    "            \n",
    "            item_to_pop = [item for item in other_friendships if item[0] == current_item[1]]\n",
    "            print(item_to_pop)\n",
    "            new_friendship = [(current_item[0], item_to_pop[0][1])]\n",
    "            print('item to pop: ' + str(item_to_pop) + '\\nnew friendship: ' + str(new_friendship))\n",
    "            \n",
    "            friendships.remove(item_to_pop[0])\n",
    "            friendships.remove(current_item)\n",
    "            friendships = friendships + new_friendship\n",
    "            \n",
    "            print('final adjustment = ' + str(friendships)+'\\n')\n",
    "            \n",
    "            reduce_friendships(friendships)\n",
    "        return friendships\n",
    "\n",
    "# reduce_friendships([(0, 0), (1, 0), (1, 1), (2, 2)])\n",
    "reduce_friendships([(1, 1), (2, 2), (1, 0)])\n",
    "\n"
   ]
  },
  {
   "cell_type": "code",
   "execution_count": 90,
   "metadata": {},
   "outputs": [
    {
     "name": "stdout",
     "output_type": "stream",
     "text": [
      "0\n",
      "1\n"
     ]
    }
   ],
   "source": [
    "friendships = [(2, 2), (1, 0)]\n",
    "for i in range(len(friendships)):\n",
    "    print(i)"
   ]
  },
  {
   "cell_type": "code",
   "execution_count": 65,
   "metadata": {},
   "outputs": [
    {
     "data": {
      "text/plain": [
       "[(1, 0), (1, 1), (2, 2)]"
      ]
     },
     "execution_count": 65,
     "metadata": {},
     "output_type": "execute_result"
    }
   ],
   "source": [
    "sorted([(1, 1), (2, 2), (1, 0)])"
   ]
  },
  {
   "cell_type": "markdown",
   "metadata": {},
   "source": [
    "# Discard, Remove, Pop (Sets) \n",
    "\n",
    "Task\n",
    "You have a non-empty set , and you have to execute  commands given in  lines.\n",
    "\n",
    "The commands will be pop, remove and discard.\n",
    "\n",
    "Input Format\n",
    "\n",
    "The first line contains integer , the number of elements in the set . \n",
    "The second line contains  space separated elements of set . All of the elements are non-negative integers, less than or equal to 9. \n",
    "The third line contains integer , the number of commands.\n",
    "The next  lines contains either pop, remove and/or discard commands followed by their associated value.\n",
    "\n",
    "Constraints\n",
    "\n",
    " \n",
    "\n",
    "Output Format\n",
    "\n",
    "Print the sum of the elements of set  on a single line.\n",
    "\n",
    "Sample Input\n",
    "\n",
    "9\n",
    "1 2 3 4 5 6 7 8 9\n",
    "10\n",
    "pop\n",
    "remove 9\n",
    "discard 9\n",
    "discard 8\n",
    "remove 7\n",
    "pop \n",
    "discard 6\n",
    "remove 5\n",
    "pop \n",
    "discard 5\n",
    "Sample Output\n",
    "\n",
    "4\n",
    "\n",
    "https://www.hackerrank.com/challenges/py-set-discard-remove-pop/problem"
   ]
  },
  {
   "cell_type": "code",
   "execution_count": 3,
   "metadata": {},
   "outputs": [
    {
     "name": "stdout",
     "output_type": "stream",
     "text": [
      "9\n",
      "1 2 3 4 5 6 7 8 9\n",
      "10\n",
      "pop\n",
      "remove 9\n",
      "discard 9\n",
      "discard 8\n",
      "remove 7\n",
      "pop\n",
      "discard 6\n",
      "remove 5\n",
      "pop\n",
      "discard 5\n",
      "4\n"
     ]
    }
   ],
   "source": [
    "n = input()\n",
    "s = set(map(int, input().split())) \n",
    "num=input()\n",
    "commands = [input().split() for _ in range(int(num))]\n",
    "\n",
    "#iterate through commands\n",
    "for command in commands:\n",
    "    if command[0] == 'pop':\n",
    "        s.pop()\n",
    "    elif command[0] == 'remove':\n",
    "        s.remove(int(command[1]))\n",
    "    else:\n",
    "        s.discard(int(command[1]))\n",
    "\n",
    "print(sum(s))\n",
    "\n",
    "# print(n, s, num, commands)\n"
   ]
  },
  {
   "cell_type": "markdown",
   "metadata": {},
   "source": [
    "# Unions and Intersections and Differences and Symmetric Diffs (Sets)\n",
    "\n",
    "## A | B; A & B; A - B; A ^ B\n",
    "\n",
    "![image.png](https://s3.amazonaws.com/hr-challenge-images/9417/1437829708-707212e33e-AuB.png)\n",
    "![title](https://s3.amazonaws.com/hr-challenge-images/9419/1437830945-a56a63892c-AB.png)\n",
    "![image.png](https://s3.amazonaws.com/hr-challenge-images/9420/1437904659-11e4bef847-A-B.png)\n",
    "![title](https://s3.amazonaws.com/hr-challenge-images/9421/1437912471-534f33cf60-AB.png)\n",
    "\n",
    "Task\n",
    "The students of District College have subscriptions to English and French newspapers. Some students have subscribed only to English, some have subscribed to only French and some have subscribed to both newspapers.\n",
    "\n",
    "You are given two sets of student roll numbers. One set has subscribed to the English newspaper, and the other set is subscribed to the French newspaper. The same student could be in both sets. Your task is to find the total number of students who have subscribed to at least one newspaper.\n",
    "\n",
    "https://www.hackerrank.com/challenges/py-set-union/problem"
   ]
  },
  {
   "cell_type": "code",
   "execution_count": 7,
   "metadata": {},
   "outputs": [
    {
     "name": "stdout",
     "output_type": "stream",
     "text": [
      "1\n",
      "2 3 4 5\n",
      "5\n",
      "6 7 4 3 8 9\n",
      "8\n"
     ]
    }
   ],
   "source": [
    "# Enter your code here. Read input from STDIN. Print output to STDOUT\n",
    "A, B = [input().split() for _ in range(4)][1::2]\n",
    "A = set(map(int, A))\n",
    "B = set(map(int, B))\n",
    "C = A | B #A.union(B)\n",
    "print(len(C))"
   ]
  },
  {
   "cell_type": "code",
   "execution_count": null,
   "metadata": {
    "collapsed": true
   },
   "outputs": [],
   "source": [
    "# INTERSECTIONS\n",
    "A, B = [raw_input().split() for _ in range(4)][1::2]\n",
    "A = set(map(int,A))\n",
    "B = set(map(int, B))\n",
    "C = A & B #A.intersection(B)\n",
    "print(len(C))"
   ]
  },
  {
   "cell_type": "code",
   "execution_count": 10,
   "metadata": {},
   "outputs": [
    {
     "name": "stdout",
     "output_type": "stream",
     "text": [
      "2\n",
      "2\n",
      "2\n",
      "2\n",
      "0\n"
     ]
    }
   ],
   "source": [
    "## DIFFERENCES\n",
    "A, B = [input().split() for _ in range(4)][1::2]\n",
    "A = set(map(int, A))\n",
    "B = set(map(int, B))\n",
    "C = A-B   #A.difference(B)\n",
    "print(len(C))"
   ]
  },
  {
   "cell_type": "code",
   "execution_count": null,
   "metadata": {
    "collapsed": true
   },
   "outputs": [],
   "source": [
    "### SYMMETRIC DIFFERENCES\n",
    "# Enter your code here. Read input from STDIN. Print output to STDOUT\n",
    "A, B = [raw_input().split() for _ in range(4)][1::2]\n",
    "A = set(map(int, A))\n",
    "B = set(map(int, B))\n",
    "C = A^B #A.symmetric_difference(B)  #A.difference(B).union(B.difference(A))\n",
    "print(len(C))"
   ]
  },
  {
   "cell_type": "markdown",
   "metadata": {},
   "source": [
    "# Mutations and Updates (Sets)\n",
    "\n",
    "### update (union update)\n",
    "```\n",
    "H = {'H', 'a', 'c', 'k', 'e', 'r',}\n",
    "R = set(['R', 'a', 'n', 'k'])\n",
    "\n",
    "H.update(R)\n",
    "H |= R\n",
    "\n",
    "```\n",
    "\n",
    "### intersection update\n",
    "```\n",
    "H = {'H', 'a', 'c', 'k', 'e', 'r',}\n",
    "R = set(['R', 'a', 'n', 'k'])\n",
    "\n",
    "H.intersection_update(R)\n",
    "H &= R\n",
    "\n",
    "```\n",
    "\n",
    "### difference update\n",
    "```\n",
    "H = {'H', 'a', 'c', 'k', 'e', 'r',}\n",
    "R = set(['R', 'a', 'n', 'k'])\n",
    "\n",
    "H.difference_update(R)\n",
    "H -= R\n",
    "\n",
    "```\n",
    "\n",
    "### symmetric difference update\n",
    "```\n",
    "H = {'H', 'a', 'c', 'k', 'e', 'r',}\n",
    "R = set(['R', 'a', 'n', 'k'])\n",
    "\n",
    "H.symmetric_difference_update(R)\n",
    "H ^= R\n",
    "\n",
    "```"
   ]
  },
  {
   "cell_type": "markdown",
   "metadata": {},
   "source": [
    "**TASK**\n",
    "You are given a set  and  number of other sets. These  number of sets have to perform some specific mutation operations on set .\n",
    "\n",
    "Your task is to execute those operations and print the sum of elements from set .\n",
    "\n",
    "**Input Format**\n",
    "\n",
    "The first line contains the number of elements in set .\n",
    "The second line contains the space separated list of elements in set .\n",
    "The third line contains integer , the number of other sets.\n",
    "The next  lines are divided into  parts containing two lines each.\n",
    "The first line of each part contains the space separated entries of the operation name and the length of the other set.\n",
    "The second line of each part contains space separated list of elements in the other set.\n",
    "\n",
    " len(set(A))  \n",
    " len(otherSets)  \n",
    "\n",
    "**Output Format**\n",
    "\n",
    "Output the sum of elements in set A.\n",
    "\n",
    "https://www.hackerrank.com/challenges/py-set-mutations/problem"
   ]
  },
  {
   "cell_type": "code",
   "execution_count": null,
   "metadata": {
    "collapsed": true
   },
   "outputs": [],
   "source": [
    "# Enter your code here. Read input from STDIN. Print output to STDOUT\n",
    "k, A = [raw_input().split() for _ in range(2)]\n",
    "A = set(map(int, A))\n",
    "\n",
    "num = int(input())\n",
    "for i in range(num):\n",
    "    command, B = [raw_input().split() for _ in range(2)]\n",
    "    B = set(map(int, B))\n",
    "    if command[0] == 'update':\n",
    "        A.update(B)\n",
    "    elif command[0] == 'intersection_update':\n",
    "        A.intersection_update(B)\n",
    "    elif command[0] == 'difference_update':\n",
    "        A.difference_update(B)\n",
    "    else:\n",
    "        A ^= B\n",
    "        \n",
    "print(sum(A))"
   ]
  },
  {
   "cell_type": "markdown",
   "metadata": {},
   "source": []
  },
  {
   "cell_type": "markdown",
   "metadata": {},
   "source": [
    "# Regex\n",
    "https://www.hackerrank.com/challenges/introduction-to-regex/problem\n"
   ]
  },
  {
   "cell_type": "code",
   "execution_count": 1,
   "metadata": {},
   "outputs": [
    {
     "name": "stdout",
     "output_type": "stream",
     "text": [
      "4\n",
      "40.o\n",
      "False\n",
      "40.0\n",
      "True\n",
      ".98\n",
      "True\n",
      "-13.\n",
      "False\n"
     ]
    }
   ],
   "source": [
    "#use regex\n",
    "import re\n",
    "\n",
    "# #grab first input as number of cases\n",
    "# x = int(input())\n",
    "\n",
    "# #run through each test case\n",
    "# for _ in range(x):\n",
    "    \n",
    "#     #grab test input\n",
    "#     test = input()\n",
    "    \n",
    "#     #check if it matches desired format \n",
    "#     #(sign & number with at least one decimal place)\n",
    "#     match = re.match(r'^[+-]?[0-9]*\\.[0-9]+$', test)\n",
    "    \n",
    "#     #print result\n",
    "#     print(bool(match))\n",
    "\n",
    "\n",
    "#the regex: r'^[+-]?[0-9]*\\.[0-9]+$'\n",
    "# ^ = starts with\n",
    "# [+-]? = +/- zero or one times only\n",
    "# [0-9]* = 0-9 digits zero + times\n",
    "# \\. = escape . character\n",
    "# [0-9]+ = 0-9 digits at least 1 time\n",
    "# $ = ends with\n",
    "    \n",
    "# # Simply put:\n",
    "for _ in range(int(input())):\n",
    "    print(bool(re.match(r'^[+-]?[0-9]*\\.[0-9]+$',input())))"
   ]
  },
  {
   "cell_type": "code",
   "execution_count": null,
   "metadata": {
    "collapsed": true
   },
   "outputs": [],
   "source": [
    "g"
   ]
  },
  {
   "cell_type": "code",
   "execution_count": null,
   "metadata": {
    "collapsed": true
   },
   "outputs": [],
   "source": []
  },
  {
   "cell_type": "code",
   "execution_count": null,
   "metadata": {
    "collapsed": true
   },
   "outputs": [],
   "source": []
  },
  {
   "cell_type": "code",
   "execution_count": null,
   "metadata": {
    "collapsed": true
   },
   "outputs": [],
   "source": []
  },
  {
   "cell_type": "code",
   "execution_count": null,
   "metadata": {
    "collapsed": true
   },
   "outputs": [],
   "source": []
  },
  {
   "cell_type": "code",
   "execution_count": null,
   "metadata": {
    "collapsed": true
   },
   "outputs": [],
   "source": []
  }
 ],
 "metadata": {
  "kernelspec": {
   "display_name": "Python 3",
   "language": "python",
   "name": "python3"
  },
  "language_info": {
   "codemirror_mode": {
    "name": "ipython",
    "version": 3
   },
   "file_extension": ".py",
   "mimetype": "text/x-python",
   "name": "python",
   "nbconvert_exporter": "python",
   "pygments_lexer": "ipython3",
   "version": "3.6.3"
  }
 },
 "nbformat": 4,
 "nbformat_minor": 2
}
